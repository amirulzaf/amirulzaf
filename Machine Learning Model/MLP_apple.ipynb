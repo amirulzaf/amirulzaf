{
  "cells": [
    {
      "cell_type": "markdown",
      "metadata": {
        "id": "CBStsDPOOwpv"
      },
      "source": [
        "# Multilayer Perceptron (Model 1, Dataset 1)\n",
        "Dataset: **Food-11 image dataset**\n",
        "\n",
        "Model: **32 batch size, 15 epochs**"
      ]
    },
    {
      "cell_type": "code",
      "execution_count": null,
      "metadata": {
        "id": "n7Xn9ykO1zJL"
      },
      "outputs": [],
      "source": [
        "import numpy as np\n",
        "%matplotlib  inline\n",
        "import matplotlib.pyplot as plt\n",
        "\n",
        "import tensorflow as tf\n",
        "from tensorflow import keras\n",
        "from keras.layers.advanced_activations import LeakyReLU\n",
        "from skimage.io import imread\n",
        "from tensorflow.keras.preprocessing.image import ImageDataGenerator\n",
        "from sklearn.metrics import confusion_matrix\n",
        "\n",
        "import cv2\n",
        "import numpy\n",
        "import glob\n",
        "import random\n",
        "import os"
      ]
    },
    {
      "cell_type": "markdown",
      "metadata": {
        "id": "NeJcvCg4O69A"
      },
      "source": [
        "### Load data"
      ]
    },
    {
      "cell_type": "code",
      "execution_count": null,
      "metadata": {
        "id": "mubX4F681JII"
      },
      "outputs": [],
      "source": [
        "train_path = '[Path to File]'\n",
        "test_path = '[Path to File]'"
      ]
    },
    {
      "cell_type": "code",
      "execution_count": null,
      "metadata": {
        "colab": {
          "base_uri": "https://localhost:8080/"
        },
        "id": "6qAGLDyWDprf",
        "outputId": "9bd6d207-8c13-41d4-8f6f-0d7d75b72fda"
      },
      "outputs": [],
      "source": [
        "datagen = ImageDataGenerator(preprocessing_function=tf.keras.applications.mobilenet.preprocess_input) \n",
        " \n",
        "train_generator = datagen.flow_from_directory(\n",
        "    directory = train_path,\n",
        "    target_size=(224, 224),\n",
        "    color_mode= 'rgb',\n",
        "    class_mode= 'categorical',\n",
        "    seed = 123,\n",
        "    shuffle = True,\n",
        "    )\n",
        "    \n",
        "\n",
        "\n",
        "test_generator = datagen.flow_from_directory(\n",
        "    directory = test_path,\n",
        "    target_size=(224, 224),\n",
        "    color_mode= 'rgb',\n",
        "    class_mode= 'categorical',\n",
        "    shuffle = False,\n",
        "    seed = 123,\n",
        ")"
      ]
    },
    {
      "cell_type": "markdown",
      "metadata": {
        "id": "Bmp0xu-XQpeg"
      },
      "source": [
        "### Create Model"
      ]
    },
    {
      "cell_type": "code",
      "execution_count": null,
      "metadata": {
        "id": "qiLImj7nQvAx"
      },
      "outputs": [],
      "source": [
        "model = keras.models.Sequential()\n",
        "\n",
        "#input layer\n",
        "model.add(keras.layers.Flatten(input_shape=[224,224,3]))\n",
        "  \n",
        "# hidden layer 1\n",
        "model.add(keras.layers.Dense(300,activation=\"relu\"))\n",
        "# hidden layer 2\n",
        "model.add(keras.layers.Dense(200,activation=\"relu\"))\n",
        "#hidden layer 3\n",
        "model.add(keras.layers.Dense(100,activation=\"relu\"))\n",
        "#hidden layer 4\n",
        "model.add(keras.layers.Dense(70,activation=\"relu\"))\n",
        "\n",
        "#Output Layer\n",
        "model.add(keras.layers.Dense(2,activation=\"softmax\"))"
      ]
    },
    {
      "cell_type": "code",
      "execution_count": null,
      "metadata": {
        "colab": {
          "base_uri": "https://localhost:8080/"
        },
        "id": "RS4ByBYaRt36",
        "outputId": "7391520a-7bb8-4c04-f941-6e3496cca08e"
      },
      "outputs": [],
      "source": [
        "model.layers"
      ]
    },
    {
      "cell_type": "code",
      "execution_count": null,
      "metadata": {
        "colab": {
          "base_uri": "https://localhost:8080/"
        },
        "id": "wOSwGV1JR6EB",
        "outputId": "ae14aad4-7eda-4796-ccf1-d9c65a075e09"
      },
      "outputs": [],
      "source": [
        "model.summary()"
      ]
    },
    {
      "cell_type": "markdown",
      "metadata": {
        "id": "i2ogcmcSSCOK"
      },
      "source": [
        "### Compile Model"
      ]
    },
    {
      "cell_type": "code",
      "execution_count": null,
      "metadata": {
        "id": "l60ZMs-VSAVy"
      },
      "outputs": [],
      "source": [
        "model.compile(optimizer='sgd',\n",
        "              loss='categorical_crossentropy',\n",
        "              metrics=['accuracy',tf.keras.metrics.Precision(), tf.keras.metrics.Recall()])"
      ]
    },
    {
      "cell_type": "code",
      "execution_count": null,
      "metadata": {
        "colab": {
          "base_uri": "https://localhost:8080/"
        },
        "id": "vBYxRIa1SGj6",
        "outputId": "2827face-829a-4b52-e466-8912046d7ae6"
      },
      "outputs": [],
      "source": [
        "history = model.fit(x = train_generator, batch_size = 32, epochs = 15)"
      ]
    },
    {
      "cell_type": "code",
      "execution_count": null,
      "metadata": {
        "colab": {
          "base_uri": "https://localhost:8080/"
        },
        "id": "CiWCEkMCS5k_",
        "outputId": "0faf9412-5a67-4220-b889-74d60b67167c"
      },
      "outputs": [],
      "source": [
        "history.params"
      ]
    },
    {
      "cell_type": "code",
      "execution_count": null,
      "metadata": {
        "colab": {
          "base_uri": "https://localhost:8080/"
        },
        "id": "i8gvr77JS667",
        "outputId": "bb55d821-a07e-400a-8b01-adde1375f7f2"
      },
      "outputs": [],
      "source": [
        "history.history.keys()"
      ]
    },
    {
      "cell_type": "markdown",
      "metadata": {
        "id": "EyPG-pNjA0oK"
      },
      "source": [
        "## Evaluation"
      ]
    },
    {
      "cell_type": "code",
      "execution_count": null,
      "metadata": {
        "colab": {
          "base_uri": "https://localhost:8080/"
        },
        "id": "uoOK7Q92A7F-",
        "outputId": "ad5ce964-b3fa-49b0-ae49-e5b608113640"
      },
      "outputs": [],
      "source": [
        "model.evaluate(test_generator)"
      ]
    },
    {
      "cell_type": "code",
      "execution_count": null,
      "metadata": {
        "colab": {
          "base_uri": "https://localhost:8080/",
          "height": 282
        },
        "id": "XiqsP3ArA9fx",
        "outputId": "138678c6-6a77-401f-f0ef-79797477913c"
      },
      "outputs": [],
      "source": [
        "N = 15\n",
        "plt.style.use(\"ggplot\")\n",
        "plt.figure()\n",
        "plt.subplot(1,2,2)\n",
        "plt.plot(np.arange(0, N), history.history[\"loss\"], label=\"train_loss\")\n",
        "plt.legend(loc=\"upper right\")\n",
        "plt.title(\"Training Loss\")\n",
        "\n",
        "plt.show()"
      ]
    },
    {
      "cell_type": "code",
      "execution_count": null,
      "metadata": {
        "colab": {
          "base_uri": "https://localhost:8080/",
          "height": 282
        },
        "id": "2_6B3Lo-BkYe",
        "outputId": "6cc1a1de-f58c-47ce-8e16-0e7f8cf37090"
      },
      "outputs": [],
      "source": [
        "plt.subplot(1,2,1)\n",
        "plt.plot(np.arange(0, N), history.history[\"accuracy\"], label=\"train_acc\")\n",
        "plt.legend(loc=\"lower left\")\n",
        "plt.title(\"Training Accuracy\")\n",
        "\n",
        "plt.show()"
      ]
    },
    {
      "cell_type": "code",
      "execution_count": null,
      "metadata": {
        "colab": {
          "base_uri": "https://localhost:8080/",
          "height": 324
        },
        "id": "CRXvjnNIBFMN",
        "outputId": "921c4360-8fe4-4597-cd69-206372b01328"
      },
      "outputs": [],
      "source": [
        "#visualize the curve for training model\n",
        "import pandas as pd\n",
        "pd.DataFrame(history.history).plot(figsize=(8,5))\n",
        "plt.grid(True)\n",
        "plt.gca().set_ylim(0,1)\n",
        "plt.show()"
      ]
    },
    {
      "cell_type": "markdown",
      "metadata": {
        "id": "moFG7Cx_B3m8"
      },
      "source": [
        "## Using model to make prediction"
      ]
    },
    {
      "cell_type": "code",
      "execution_count": null,
      "metadata": {
        "id": "Xb6RiUJUB5rD"
      },
      "outputs": [],
      "source": [
        "test_labels = test_generator.classes"
      ]
    },
    {
      "cell_type": "code",
      "execution_count": null,
      "metadata": {
        "id": "plq8fgQoB8TI"
      },
      "outputs": [],
      "source": [
        "predictions = model.predict(test_generator, steps=len(test_generator))"
      ]
    },
    {
      "cell_type": "code",
      "execution_count": null,
      "metadata": {
        "id": "2xVVxTokB9rL"
      },
      "outputs": [],
      "source": [
        "cm = confusion_matrix(y_true=test_labels, y_pred=np.argmax(predictions, axis=1))"
      ]
    },
    {
      "cell_type": "code",
      "execution_count": null,
      "metadata": {
        "id": "nPFOX7tIB_Gc"
      },
      "outputs": [],
      "source": [
        "cm_plot_labels = ['Bread','Dairy Product','Dessert','Egg','Fried food','Meat','Noodles-Pasta','Rice','Seafood','Soup','Vegetable-Fruit']"
      ]
    },
    {
      "cell_type": "code",
      "execution_count": null,
      "metadata": {
        "id": "b67k0GkLCE8h"
      },
      "outputs": [],
      "source": [
        "x_test = (test_generator)"
      ]
    },
    {
      "cell_type": "code",
      "execution_count": null,
      "metadata": {
        "colab": {
          "base_uri": "https://localhost:8080/"
        },
        "id": "ztMOHP8oCHIW",
        "outputId": "12ffae3c-a479-4785-a375-05cfdba3df2e"
      },
      "outputs": [],
      "source": [
        "import numpy as np\n",
        "from sklearn.metrics import confusion_matrix,classification_report\n",
        "\n",
        "\n",
        "y_pred = np.argmax(predictions, axis=1)\n",
        "\n",
        "true_classes = test_generator.classes\n",
        "\n",
        "class_labels = list(test_generator.class_indices.keys())   \n",
        "\n",
        "print(\"\\tCONFUSION MATRIX\")\n",
        "print(\"\\n\")\n",
        "print(confusion_matrix(test_generator.classes, y_pred, ))\n",
        "print(\"\\n\")"
      ]
    },
    {
      "cell_type": "code",
      "execution_count": null,
      "metadata": {
        "colab": {
          "base_uri": "https://localhost:8080/"
        },
        "id": "hkSENc5rCJm-",
        "outputId": "d1800d4d-138b-4567-fc87-9318cadc5956"
      },
      "outputs": [],
      "source": [
        "print(\"\\t\\t\\tCLASSIFICATION REPORT\")\n",
        "print(\"\\n\")\n",
        "report = classification_report(true_classes, y_pred, target_names=class_labels.sort(key=str))\n",
        "print(report)"
      ]
    },
    {
      "cell_type": "code",
      "execution_count": null,
      "metadata": {
        "id": "AoLX61eoYdEB"
      },
      "outputs": [],
      "source": []
    }
  ],
  "metadata": {
    "colab": {
      "collapsed_sections": [],
      "name": "MLP (Model 1_Dataset 1).ipynb",
      "provenance": []
    },
    "kernelspec": {
      "display_name": "Python 3",
      "name": "python3"
    },
    "language_info": {
      "codemirror_mode": {
        "name": "ipython",
        "version": 3
      },
      "file_extension": ".py",
      "mimetype": "text/x-python",
      "name": "python",
      "nbconvert_exporter": "python",
      "pygments_lexer": "ipython3",
      "version": "3.8.12"
    }
  },
  "nbformat": 4,
  "nbformat_minor": 0
}
