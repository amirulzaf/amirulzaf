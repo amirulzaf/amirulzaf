{
 "cells": [
  {
   "cell_type": "code",
   "execution_count": null,
   "metadata": {},
   "outputs": [],
   "source": [
    "#!/usr/bin/env python\n",
    "# coding: utf-8\n",
    "\n",
    "# In[1]:\n",
    "\n",
    "\n",
    "import numpy as np\n",
    "import tensorflow as tf\n",
    "from tensorflow import keras\n",
    "from tensorflow.keras.models import Sequential\n",
    "from tensorflow.keras.layers import Activation,Dense,Flatten,BatchNormalization,Conv2D,AveragePooling2D,MaxPooling2D,Lambda, Dropout,Input\n",
    "\n",
    "import pydotplus\n",
    "from keras.utils.vis_utils import plot_model\n",
    "from keras.utils.vis_utils import model_to_dot\n",
    "os.environ[\"PATH\"] += os.pathsep + 'C:/Program Files/Graphviz/bin'\n",
    "\n",
    "\n",
    "\n",
    "from tensorflow.keras import Model\n",
    "from tensorflow.keras.optimizers import Adam\n",
    "from tensorflow.keras.metrics import categorical_crossentropy\n",
    "from tensorflow.keras.preprocessing.image import ImageDataGenerator\n",
    "from tensorflow.keras import layers\n",
    "from sklearn.metrics import confusion_matrix\n",
    "from keras.utils.vis_utils import plot_model\n",
    "import itertools\n",
    "import typing\n",
    "import os\n",
    "import shutil\n",
    "import random\n",
    "import keras\n",
    "import pydotplus\n",
    "import glob\n",
    "import matplotlib.pyplot as plt\n",
    "import warnings\n",
    "import torch\n",
    "import torch.nn as nn\n",
    "import torch.nn.functional as F\n",
    "import torch.optim as optim\n",
    "warnings.simplefilter(action='ignore', category= FutureWarning)\n",
    "get_ipython().run_line_magic('matplotlib', 'inline')"
   ]
  },
  {
   "cell_type": "code",
   "execution_count": null,
   "metadata": {},
   "outputs": [],
   "source": [
    "print(tf.test.gpu_device_name())"
   ]
  },
  {
   "cell_type": "code",
   "execution_count": null,
   "metadata": {},
   "outputs": [],
   "source": [
    "train_path = '[Path to File]'\n",
    "test_path = '[Path to File]'"
   ]
  },
  {
   "cell_type": "code",
   "execution_count": null,
   "metadata": {},
   "outputs": [],
   "source": [
    "datagen = ImageDataGenerator() \n",
    " \n",
    "train_generator = datagen.flow_from_directory(\n",
    "    directory = train_path,\n",
    "    batch_size = 32,\n",
    "    target_size=(227,227),\n",
    "    color_mode= 'rgb',\n",
    "    class_mode= 'categorical',\n",
    "    shuffle = True,\n",
    "    seed = 123,\n",
    "    )\n",
    "    \n",
    "\n",
    "\n",
    "test_generator = datagen.flow_from_directory(\n",
    "    directory = test_path,\n",
    "    batch_size = 32,\n",
    "    target_size=(227,227),\n",
    "    color_mode= 'rgb',\n",
    "    class_mode= 'categorical',\n",
    "    shuffle = False,\n",
    "    seed = 123,\n",
    "    )"
   ]
  },
  {
   "cell_type": "code",
   "execution_count": null,
   "metadata": {},
   "outputs": [],
   "source": [
    "for image_batch, labels_batch in train_generator:\n",
    "  print(image_batch.shape)\n",
    "  print(labels_batch.shape)\n",
    "  break"
   ]
  },
  {
   "cell_type": "code",
   "execution_count": null,
   "metadata": {},
   "outputs": [],
   "source": [
    "model= tf.keras.Sequential()\n",
    "\n",
    "# layer 1\n",
    "model.add(keras.layers.Conv2D(\n",
    "    filters = 6,\n",
    "    kernel_size = (5, 5),\n",
    "    strides = (1, 1),\n",
    "    activation = \"relu\",\n",
    "    padding = \"valid\",\n",
    "    input_shape=(227,227,3)))\n",
    "model.add(keras.layers.AveragePooling2D(pool_size = (2, 2), strides = (2, 2), padding = \"same\"))\n",
    "\n",
    "# layer 2\n",
    "model.add(keras.layers.Conv2D(\n",
    "    filters = 16,\n",
    "    kernel_size = (5, 5),\n",
    "    strides = (1, 1),   \n",
    "    activation = \"relu\",\n",
    "    padding = \"valid\",\n",
    "    ))\n",
    "model.add(keras.layers.AveragePooling2D(pool_size = (2, 2), strides = (2, 2), padding = \"same\"))\n",
    "\n",
    "    # layer 3\n",
    "model.add(keras.layers.Conv2D(\n",
    "    filters = 120,\n",
    "    kernel_size = (5, 5),\n",
    "    strides = (1, 1),\n",
    "    activation = \"relu\",\n",
    "    padding = \"valid\",\n",
    "    ))\n",
    "model.add(keras.layers.AveragePooling2D(pool_size = (2, 2), strides = (2, 2), padding = \"same\"))\n",
    "\n",
    "\n",
    "#extra\n",
    "model.add(keras.layers.Conv2D(\n",
    "    filters = 150,\n",
    "    kernel_size = (5, 5),\n",
    "    strides = (1, 1),\n",
    "    activation = \"relu\",\n",
    "    padding = \"valid\",\n",
    "    ))\n",
    "model.add(keras.layers.AveragePooling2D(pool_size = (2, 2), strides = (2, 2), padding = \"same\"))\n",
    "\n",
    "\n",
    "\n",
    "model.add(keras.layers.Conv2D(\n",
    "    filters = 225,\n",
    "    kernel_size = (2, 2),\n",
    "    strides = (1, 1),\n",
    "    activation = \"relu\",\n",
    "    padding = \"valid\",\n",
    "    ))\n",
    "model.add(keras.layers.AveragePooling2D(pool_size = (2, 2), strides = (2, 2), padding = \"same\"))\n",
    "\n",
    "\n",
    "\n",
    "\n",
    "    # layer 4\n",
    "model.add(keras.layers.Flatten())\n",
    "model.add(keras.layers.Dense(units = 120, activation = \"relu\"))\n",
    "model.add(keras.layers.Dense(units = 84, activation = \"relu\"))\n",
    "\n",
    "\n",
    "\n",
    "    # layer 5 (classification layer)\n",
    "model.add((keras.layers.Dense(units = 2, activation = \"softmax\")))"
   ]
  },
  {
   "cell_type": "code",
   "execution_count": null,
   "metadata": {},
   "outputs": [],
   "source": [
    "for layer in model.layers[:4]:\n",
    "\tlayer.trainable = False"
   ]
  },
  {
   "cell_type": "code",
   "execution_count": null,
   "metadata": {},
   "outputs": [],
   "source": [
    "print(model.summary())"
   ]
  },
  {
   "cell_type": "code",
   "execution_count": null,
   "metadata": {},
   "outputs": [],
   "source": [
    "model.compile(\n",
    "    optimizer=tf.keras.optimizers.Adam(learning_rate=0.0001),\n",
    "    loss=\"categorical_crossentropy\",\n",
    "    metrics=[\"accuracy\", tf.keras.metrics.Precision(), tf.keras.metrics.Recall()],\n",
    ")"
   ]
  },
  {
   "cell_type": "code",
   "execution_count": null,
   "metadata": {},
   "outputs": [],
   "source": [
    "plot_model(model, to_file='model_plot(0.0001).png', show_shapes=True, show_layer_names=True)"
   ]
  },
  {
   "cell_type": "code",
   "execution_count": null,
   "metadata": {},
   "outputs": [],
   "source": [
    "image = model.fit(train_generator,epochs=30)"
   ]
  },
  {
   "cell_type": "code",
   "execution_count": null,
   "metadata": {},
   "outputs": [],
   "source": [
    "plt.style.use(\"ggplot\")\n",
    "plt.figure()\n",
    "\n",
    "plt.subplot(1,2,2)\n",
    "plt.plot(np.arange(0, 30), image.history[\"loss\"], label=\"train_loss\")\n",
    "plt.legend(loc=\"upper right\")\n",
    "plt.title(\"Training Loss\")\n",
    "\n",
    "\n",
    "\n",
    "plt.show()"
   ]
  },
  {
   "cell_type": "code",
   "execution_count": null,
   "metadata": {},
   "outputs": [],
   "source": [
    "plt.subplot(1,2,1)\n",
    "plt.plot(np.arange(0, 30), image.history[\"accuracy\"], label=\"train_acc\")\n",
    "plt.legend(loc=\"lower left\")\n",
    "plt.title(\"Training Accuracy\")\n",
    "\n",
    "plt.show()"
   ]
  },
  {
   "cell_type": "code",
   "execution_count": null,
   "metadata": {},
   "outputs": [],
   "source": [
    "plt.plot(image.history[\"accuracy\"])\n",
    "plt.plot(image.history['loss'])\n",
    "plt.title(\"model accuracy\")\n",
    "plt.ylabel(\"Accuracy\")\n",
    "plt.xlabel(\"Epoch\")\n",
    "plt.legend([\"Accuracy\",\"loss\"])\n",
    "plt.show()"
   ]
  },
  {
   "cell_type": "code",
   "execution_count": null,
   "metadata": {},
   "outputs": [],
   "source": [
    "plt.plot(image.history[\"accuracy\"])\n",
    "plt.plot(image.history['loss'])\n",
    "plt.title(\"model accuracy\")\n",
    "plt.ylabel(\"Accuracy\")\n",
    "plt.xlabel(\"Epoch\")\n",
    "plt.legend([\"Accuracy\",\"Validation Accuracy\",\"loss\",\"Validation Loss\"])\n",
    "fig = plt.gcf()\n",
    "#fig.savefig('.png', dpi=100) # save figure in png \n",
    "plt.show()"
   ]
  },
  {
   "cell_type": "code",
   "execution_count": null,
   "metadata": {},
   "outputs": [],
   "source": [
    "#evaluate the model model.evaluate(test_generator)\n",
    "predict = model.predict(test_generator) #predict the whole test dataset"
   ]
  },
  {
   "cell_type": "code",
   "execution_count": null,
   "metadata": {},
   "outputs": [],
   "source": [
    "import numpy as np\n",
    "from sklearn.metrics import confusion_matrix,classification_report\n",
    "\n",
    "\n",
    "y_pred = np.argmax(predict, axis=1)\n",
    "\n",
    "true_classes = test_generator.classes\n",
    "\n",
    "class_labels = list(test_generator.class_indices.keys())   \n",
    "\n",
    "print(\"\\tCONFUSION MATRIX\")\n",
    "print(\"\\n\")\n",
    "print(confusion_matrix(test_generator.classes, y_pred, ))\n",
    "print(\"\\n\")"
   ]
  },
  {
   "cell_type": "code",
   "execution_count": null,
   "metadata": {},
   "outputs": [],
   "source": [
    "print(\"\\t\\t\\tCLASSIFICATION REPORT\")\n",
    "print(\"\\n\")\n",
    "report = classification_report(true_classes, y_pred, target_names=class_labels.sort(key=str))\n",
    "print(report)"
   ]
  },
  {
   "cell_type": "code",
   "execution_count": null,
   "metadata": {},
   "outputs": [],
   "source": [
    "test= model.evaluate(test_generator)"
   ]
  },
  {
   "cell_type": "code",
   "execution_count": null,
   "metadata": {},
   "outputs": [],
   "source": [
    "#!/usr/bin/env python\n",
    "# coding: utf-8\n",
    "\n",
    "# In[1]:\n",
    "\n",
    "\n",
    "import numpy as np\n",
    "import tensorflow as tf\n",
    "from tensorflow import keras\n",
    "from tensorflow.keras.models import Sequential\n",
    "from tensorflow.keras.layers import Activation,Dense,Flatten,BatchNormalization,Conv2D,AveragePooling2D,MaxPooling2D,Lambda, Dropout,Input\n",
    "\n",
    "import pydotplus\n",
    "from keras.utils.vis_utils import plot_model\n",
    "from keras.utils.vis_utils import model_to_dot\n",
    "os.environ[\"PATH\"] += os.pathsep + 'C:/Program Files/Graphviz/bin'\n",
    "\n",
    "\n",
    "\n",
    "from tensorflow.keras import Model\n",
    "from tensorflow.keras.optimizers import Adam\n",
    "from tensorflow.keras.metrics import categorical_crossentropy\n",
    "from tensorflow.keras.preprocessing.image import ImageDataGenerator\n",
    "from tensorflow.keras import layers\n",
    "from sklearn.metrics import confusion_matrix\n",
    "from keras.utils.vis_utils import plot_model\n",
    "import itertools\n",
    "import typing\n",
    "import os\n",
    "import shutil\n",
    "import random\n",
    "import keras\n",
    "import pydotplus\n",
    "import glob\n",
    "import matplotlib.pyplot as plt\n",
    "import warnings\n",
    "import torch\n",
    "import torch.nn as nn\n",
    "import torch.nn.functional as F\n",
    "import torch.optim as optim\n",
    "warnings.simplefilter(action='ignore', category= FutureWarning)\n",
    "get_ipython().run_line_magic('matplotlib', 'inline')"
   ]
  },
  {
   "cell_type": "code",
   "execution_count": null,
   "metadata": {},
   "outputs": [],
   "source": [
    "print(tf.test.gpu_device_name())"
   ]
  },
  {
   "cell_type": "code",
   "execution_count": null,
   "metadata": {},
   "outputs": [],
   "source": [
    "train_path = '[Path to File]'\n",
    "test_path = '[Path to File]'"
   ]
  },
  {
   "cell_type": "code",
   "execution_count": null,
   "metadata": {},
   "outputs": [],
   "source": [
    "datagen = ImageDataGenerator() \n",
    " \n",
    "train_generator = datagen.flow_from_directory(\n",
    "    directory = train_path,\n",
    "    batch_size = 32,\n",
    "    target_size=(227,227),\n",
    "    color_mode= 'rgb',\n",
    "    class_mode= 'categorical',\n",
    "    shuffle = True,\n",
    "    seed = 123,\n",
    "    )\n",
    "    \n",
    "\n",
    "\n",
    "test_generator = datagen.flow_from_directory(\n",
    "    directory = test_path,\n",
    "    batch_size = 32,\n",
    "    target_size=(227,227),\n",
    "    color_mode= 'rgb',\n",
    "    class_mode= 'categorical',\n",
    "    shuffle = False,\n",
    "    seed = 123,\n",
    "    )"
   ]
  },
  {
   "cell_type": "code",
   "execution_count": null,
   "metadata": {},
   "outputs": [],
   "source": [
    "for image_batch, labels_batch in train_generator:\n",
    "  print(image_batch.shape)\n",
    "  print(labels_batch.shape)\n",
    "  break"
   ]
  },
  {
   "cell_type": "code",
   "execution_count": null,
   "metadata": {},
   "outputs": [],
   "source": [
    "model= tf.keras.Sequential()\n",
    "\n",
    "# layer 1\n",
    "model.add(keras.layers.Conv2D(\n",
    "    filters = 6,\n",
    "    kernel_size = (5, 5),\n",
    "    strides = (1, 1),\n",
    "    activation = \"relu\",\n",
    "    padding = \"valid\",\n",
    "    input_shape=(227,227,3)))\n",
    "model.add(keras.layers.AveragePooling2D(pool_size = (2, 2), strides = (2, 2), padding = \"same\"))\n",
    "\n",
    "# layer 2\n",
    "model.add(keras.layers.Conv2D(\n",
    "    filters = 16,\n",
    "    kernel_size = (5, 5),\n",
    "    strides = (1, 1),   \n",
    "    activation = \"relu\",\n",
    "    padding = \"valid\",\n",
    "    ))\n",
    "model.add(keras.layers.AveragePooling2D(pool_size = (2, 2), strides = (2, 2), padding = \"same\"))\n",
    "\n",
    "    # layer 3\n",
    "model.add(keras.layers.Conv2D(\n",
    "    filters = 120,\n",
    "    kernel_size = (5, 5),\n",
    "    strides = (1, 1),\n",
    "    activation = \"relu\",\n",
    "    padding = \"valid\",\n",
    "    ))\n",
    "model.add(keras.layers.AveragePooling2D(pool_size = (2, 2), strides = (2, 2), padding = \"same\"))\n",
    "\n",
    "\n",
    "#extra\n",
    "model.add(keras.layers.Conv2D(\n",
    "    filters = 150,\n",
    "    kernel_size = (5, 5),\n",
    "    strides = (1, 1),\n",
    "    activation = \"relu\",\n",
    "    padding = \"valid\",\n",
    "    ))\n",
    "model.add(keras.layers.AveragePooling2D(pool_size = (2, 2), strides = (2, 2), padding = \"same\"))\n",
    "\n",
    "\n",
    "\n",
    "model.add(keras.layers.Conv2D(\n",
    "    filters = 225,\n",
    "    kernel_size = (2, 2),\n",
    "    strides = (1, 1),\n",
    "    activation = \"relu\",\n",
    "    padding = \"valid\",\n",
    "    ))\n",
    "model.add(keras.layers.AveragePooling2D(pool_size = (2, 2), strides = (2, 2), padding = \"same\"))\n",
    "\n",
    "\n",
    "\n",
    "\n",
    "    # layer 4\n",
    "model.add(keras.layers.Flatten())\n",
    "model.add(keras.layers.Dense(units = 120, activation = \"relu\"))\n",
    "model.add(keras.layers.Dense(units = 84, activation = \"relu\"))\n",
    "\n",
    "\n",
    "\n",
    "    # layer 5 (classification layer)\n",
    "model.add((keras.layers.Dense(units = 2, activation = \"softmax\")))"
   ]
  },
  {
   "cell_type": "code",
   "execution_count": null,
   "metadata": {},
   "outputs": [],
   "source": [
    "for layer in model.layers[:4]:\n",
    "\tlayer.trainable = False"
   ]
  },
  {
   "cell_type": "code",
   "execution_count": null,
   "metadata": {},
   "outputs": [],
   "source": [
    "#print(model.summary())"
   ]
  },
  {
   "cell_type": "code",
   "execution_count": null,
   "metadata": {},
   "outputs": [],
   "source": [
    "model.compile(\n",
    "    optimizer=tf.keras.optimizers.Adam(learning_rate=0.0001),\n",
    "    loss=\"categorical_crossentropy\",\n",
    "    metrics=[\"accuracy\", tf.keras.metrics.Precision(), tf.keras.metrics.Recall()],\n",
    ")"
   ]
  },
  {
   "cell_type": "code",
   "execution_count": null,
   "metadata": {},
   "outputs": [],
   "source": [
    "plot_model(model, to_file='model_plot(0.001(d2)).png', show_shapes=True, show_layer_names=True)"
   ]
  },
  {
   "cell_type": "code",
   "execution_count": null,
   "metadata": {},
   "outputs": [],
   "source": [
    "image = model.fit(train_generator,epochs=30)"
   ]
  },
  {
   "cell_type": "code",
   "execution_count": null,
   "metadata": {},
   "outputs": [],
   "source": [
    "plt.style.use(\"ggplot\")\n",
    "plt.figure()\n",
    "\n",
    "plt.subplot(1,2,2)\n",
    "plt.plot(np.arange(0, 30), image.history[\"loss\"], label=\"train_loss\")\n",
    "plt.legend(loc=\"upper right\")\n",
    "plt.title(\"Training Loss\")\n",
    "\n",
    "\n",
    "\n",
    "plt.show()"
   ]
  },
  {
   "cell_type": "code",
   "execution_count": null,
   "metadata": {},
   "outputs": [],
   "source": [
    "plt.subplot(1,2,1)\n",
    "plt.plot(np.arange(0, 30), image.history[\"accuracy\"], label=\"train_acc\")\n",
    "plt.legend(loc=\"lower left\")\n",
    "plt.title(\"Training Accuracy\")\n",
    "\n",
    "plt.show()"
   ]
  },
  {
   "cell_type": "code",
   "execution_count": null,
   "metadata": {},
   "outputs": [],
   "source": [
    "plt.plot(image.history[\"accuracy\"])\n",
    "plt.plot(image.history['loss'])\n",
    "plt.title(\"model accuracy\")\n",
    "plt.ylabel(\"Accuracy\")\n",
    "plt.xlabel(\"Epoch\")\n",
    "plt.legend([\"Accuracy\",\"loss\"])\n",
    "plt.show()"
   ]
  },
  {
   "cell_type": "code",
   "execution_count": null,
   "metadata": {},
   "outputs": [],
   "source": [
    "plt.plot(image.history[\"accuracy\"])\n",
    "plt.plot(image.history['loss'])\n",
    "plt.title(\"model accuracy\")\n",
    "plt.ylabel(\"Accuracy\")\n",
    "plt.xlabel(\"Epoch\")\n",
    "plt.legend([\"Accuracy\",\"loss\"])\n",
    "\n",
    "plt.show()"
   ]
  },
  {
   "cell_type": "code",
   "execution_count": null,
   "metadata": {},
   "outputs": [],
   "source": [
    "#evaluate the model model.evaluate(test_generator)\n",
    "predict = model.predict(test_generator) #predict the whole test dataset"
   ]
  },
  {
   "cell_type": "code",
   "execution_count": null,
   "metadata": {},
   "outputs": [],
   "source": [
    "import numpy as np\n",
    "from sklearn.metrics import confusion_matrix,classification_report\n",
    "\n",
    "\n",
    "y_pred = np.argmax(predict, axis=1)\n",
    "\n",
    "true_classes = test_generator.classes\n",
    "\n",
    "class_labels = list(test_generator.class_indices.keys())   \n",
    "\n",
    "print(\"\\tCONFUSION MATRIX\")\n",
    "print(\"\\n\")\n",
    "print(confusion_matrix(test_generator.classes, y_pred, ))\n",
    "print(\"\\n\")"
   ]
  },
  {
   "cell_type": "code",
   "execution_count": null,
   "metadata": {},
   "outputs": [],
   "source": [
    "print(\"\\t\\t\\tCLASSIFICATION REPORT\")\n",
    "print(\"\\n\")\n",
    "report = classification_report(true_classes, y_pred, target_names=class_labels.sort(key=str))\n",
    "print(report)"
   ]
  },
  {
   "cell_type": "code",
   "execution_count": null,
   "metadata": {},
   "outputs": [],
   "source": [
    "test= model.evaluate(test_generator)"
   ]
  }
 ],
 "metadata": {
  "kernelspec": {
   "display_name": "Python 3",
   "language": "python",
   "name": "python3"
  },
  "language_info": {
   "codemirror_mode": {
    "name": "ipython",
    "version": 3
   },
   "file_extension": ".py",
   "mimetype": "text/x-python",
   "name": "python",
   "nbconvert_exporter": "python",
   "pygments_lexer": "ipython3",
   "version": "3.8.12"
  }
 },
 "nbformat": 4,
 "nbformat_minor": 2
}
